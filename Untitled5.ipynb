{
  "nbformat": 4,
  "nbformat_minor": 0,
  "metadata": {
    "colab": {
      "provenance": [],
      "authorship_tag": "ABX9TyMF2IohBB4zZ0v/LTYsZNkj",
      "include_colab_link": true
    },
    "kernelspec": {
      "name": "python3",
      "display_name": "Python 3"
    },
    "language_info": {
      "name": "python"
    }
  },
  "cells": [
    {
      "cell_type": "markdown",
      "metadata": {
        "id": "view-in-github",
        "colab_type": "text"
      },
      "source": [
        "<a href=\"https://colab.research.google.com/github/lekh-ch/Internship-task2/blob/main/Untitled5.ipynb\" target=\"_parent\"><img src=\"https://colab.research.google.com/assets/colab-badge.svg\" alt=\"Open In Colab\"/></a>"
      ]
    },
    {
      "cell_type": "code",
      "execution_count": 1,
      "metadata": {
        "colab": {
          "base_uri": "https://localhost:8080/"
        },
        "id": "1h6WNExVMQZp",
        "outputId": "18fb693e-24b2-48b6-b950-ab34510283cf"
      },
      "outputs": [
        {
          "output_type": "stream",
          "name": "stdout",
          "text": [
            "Enter the text: This is an example sentence.\n",
            "Number of words: 5\n"
          ]
        }
      ],
      "source": [
        "def count_words(text):\n",
        "  \"\"\"\n",
        "  Counts the number of words in the given text.\n",
        "\n",
        "  Args:\n",
        "    text: The input text string.\n",
        "\n",
        "  Returns:\n",
        "    The number of words in the text.\n",
        "  \"\"\"\n",
        "  if not text:\n",
        "    return 0  # Handle empty input\n",
        "\n",
        "  words = text.split()\n",
        "  return len(words)\n",
        "\n",
        "if __name__ == \"__main__\":\n",
        "  text = input(\"Enter the text: \")\n",
        "  word_count = count_words(text)\n",
        "  print(f\"Number of words: {word_count}\")"
      ]
    }
  ]
}